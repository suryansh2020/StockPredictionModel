{
  "nbformat": 4,
  "nbformat_minor": 0,
  "metadata": {
    "colab": {
      "name": "Stock-Prediction.ipynb",
      "provenance": []
    },
    "kernelspec": {
      "name": "python3",
      "display_name": "Python 3"
    }
  },
  "cells": [
    {
      "cell_type": "code",
      "metadata": {
        "id": "U3q5_OPmW2pf",
        "colab_type": "code",
        "outputId": "46e77050-3255-427b-a6db-a85ca7d988d6",
        "colab": {
          "base_uri": "https://localhost:8080/",
          "height": 692
        }
      },
      "source": [
        "!pip install quandl"
      ],
      "execution_count": 0,
      "outputs": [
        {
          "output_type": "stream",
          "text": [
            "Collecting quandl\n",
            "  Downloading https://files.pythonhosted.org/packages/12/64/6314547cb01fa75697ddba6d6d43a9f1d023c1730ffc6abf3db7a0c89222/Quandl-3.4.8-py2.py3-none-any.whl\n",
            "Collecting more-itertools<=5.0.0\n",
            "\u001b[?25l  Downloading https://files.pythonhosted.org/packages/a4/a6/42f17d065bda1fac255db13afc94c93dbfb64393eae37c749b4cb0752fc7/more_itertools-5.0.0-py3-none-any.whl (52kB)\n",
            "\u001b[K     |████████████████████████████████| 61kB 3.4MB/s \n",
            "\u001b[?25hCollecting pyOpenSSL\n",
            "\u001b[?25l  Downloading https://files.pythonhosted.org/packages/9e/de/f8342b68fa9e981d348039954657bdf681b2ab93de27443be51865ffa310/pyOpenSSL-19.1.0-py2.py3-none-any.whl (53kB)\n",
            "\u001b[K     |████████████████████████████████| 61kB 7.3MB/s \n",
            "\u001b[?25hCollecting ndg-httpsclient\n",
            "  Downloading https://files.pythonhosted.org/packages/fb/67/c2f508c00ed2a6911541494504b7cac16fe0b0473912568df65fd1801132/ndg_httpsclient-0.5.1-py3-none-any.whl\n",
            "Requirement already satisfied: python-dateutil in /usr/local/lib/python3.6/dist-packages (from quandl) (2.6.1)\n",
            "Requirement already satisfied: numpy>=1.8 in /usr/local/lib/python3.6/dist-packages (from quandl) (1.17.4)\n",
            "Requirement already satisfied: pandas>=0.14 in /usr/local/lib/python3.6/dist-packages (from quandl) (0.25.3)\n",
            "Requirement already satisfied: pyasn1 in /usr/local/lib/python3.6/dist-packages (from quandl) (0.4.8)\n",
            "Requirement already satisfied: requests>=2.7.0 in /usr/local/lib/python3.6/dist-packages (from quandl) (2.21.0)\n",
            "Collecting inflection>=0.3.1\n",
            "  Downloading https://files.pythonhosted.org/packages/d5/35/a6eb45b4e2356fe688b21570864d4aa0d0a880ce387defe9c589112077f8/inflection-0.3.1.tar.gz\n",
            "Requirement already satisfied: six in /usr/local/lib/python3.6/dist-packages (from quandl) (1.12.0)\n",
            "Collecting cryptography>=2.8\n",
            "\u001b[?25l  Downloading https://files.pythonhosted.org/packages/ca/9a/7cece52c46546e214e10811b36b2da52ce1ea7fa203203a629b8dfadad53/cryptography-2.8-cp34-abi3-manylinux2010_x86_64.whl (2.3MB)\n",
            "\u001b[K     |████████████████████████████████| 2.3MB 8.2MB/s \n",
            "\u001b[?25hRequirement already satisfied: pytz>=2017.2 in /usr/local/lib/python3.6/dist-packages (from pandas>=0.14->quandl) (2018.9)\n",
            "Requirement already satisfied: certifi>=2017.4.17 in /usr/local/lib/python3.6/dist-packages (from requests>=2.7.0->quandl) (2019.11.28)\n",
            "Requirement already satisfied: chardet<3.1.0,>=3.0.2 in /usr/local/lib/python3.6/dist-packages (from requests>=2.7.0->quandl) (3.0.4)\n",
            "Requirement already satisfied: urllib3<1.25,>=1.21.1 in /usr/local/lib/python3.6/dist-packages (from requests>=2.7.0->quandl) (1.24.3)\n",
            "Requirement already satisfied: idna<2.9,>=2.5 in /usr/local/lib/python3.6/dist-packages (from requests>=2.7.0->quandl) (2.8)\n",
            "Requirement already satisfied: cffi!=1.11.3,>=1.8 in /usr/local/lib/python3.6/dist-packages (from cryptography>=2.8->pyOpenSSL->quandl) (1.13.2)\n",
            "Requirement already satisfied: pycparser in /usr/local/lib/python3.6/dist-packages (from cffi!=1.11.3,>=1.8->cryptography>=2.8->pyOpenSSL->quandl) (2.19)\n",
            "Building wheels for collected packages: inflection\n",
            "  Building wheel for inflection (setup.py) ... \u001b[?25l\u001b[?25hdone\n",
            "  Created wheel for inflection: filename=inflection-0.3.1-cp36-none-any.whl size=6076 sha256=272d88f8062e075f6df02f58690dbf561466efb09a5268f59961d14f64390873\n",
            "  Stored in directory: /root/.cache/pip/wheels/9f/5a/d3/6fc3bf6516d2a3eb7e18f9f28b472110b59325f3f258fe9211\n",
            "Successfully built inflection\n",
            "\u001b[31mERROR: datascience 0.10.6 has requirement folium==0.2.1, but you'll have folium 0.8.3 which is incompatible.\u001b[0m\n",
            "Installing collected packages: more-itertools, cryptography, pyOpenSSL, ndg-httpsclient, inflection, quandl\n",
            "  Found existing installation: more-itertools 8.0.0\n",
            "    Uninstalling more-itertools-8.0.0:\n",
            "      Successfully uninstalled more-itertools-8.0.0\n",
            "Successfully installed cryptography-2.8 inflection-0.3.1 more-itertools-5.0.0 ndg-httpsclient-0.5.1 pyOpenSSL-19.1.0 quandl-3.4.8\n"
          ],
          "name": "stdout"
        }
      ]
    },
    {
      "cell_type": "code",
      "metadata": {
        "id": "3jv6d9nCW0zV",
        "colab_type": "code",
        "colab": {}
      },
      "source": [
        "#stock prediction lame lmao\n",
        "#ps : idk anythig about the stock mark\n",
        "#Install the dependencies\n",
        "import quandl\n",
        "import numpy as np \n",
        "from sklearn.linear_model import LinearRegression\n",
        "from sklearn.svm import SVR\n",
        "from sklearn.model_selection import train_test_split\n",
        "import matplotlib.pyplot as plt"
      ],
      "execution_count": 0,
      "outputs": []
    },
    {
      "cell_type": "code",
      "metadata": {
        "id": "e2ifwPEvXFmK",
        "colab_type": "code",
        "outputId": "3c3d81c8-59b3-4976-f0eb-5e3a8b0dac9d",
        "colab": {
          "base_uri": "https://localhost:8080/",
          "height": 170
        }
      },
      "source": [
        "#get stock data form the stoc market kind of obvius\n",
        "stock = \"WIKI/AMZN\"\n",
        "#FB\n",
        "#AMZN\n",
        "#AAPL\n",
        "#NYC\n",
        "df = quandl.get(stock)\n",
        "#print it out\n",
        "print(df.head())"
      ],
      "execution_count": 0,
      "outputs": [
        {
          "output_type": "stream",
          "text": [
            "             Open   High    Low  ...  Adj. Low  Adj. Close  Adj. Volume\n",
            "Date                             ...                                   \n",
            "1997-05-16  22.38  23.75  20.50  ...  1.708333    1.729167   14700000.0\n",
            "1997-05-19  20.50  21.25  19.50  ...  1.625000    1.708333    6106800.0\n",
            "1997-05-20  20.75  21.00  19.63  ...  1.635833    1.635833    5467200.0\n",
            "1997-05-21  19.25  19.75  16.50  ...  1.375000    1.427500   18853200.0\n",
            "1997-05-22  17.25  17.38  15.75  ...  1.312500    1.395833   11776800.0\n",
            "\n",
            "[5 rows x 12 columns]\n"
          ],
          "name": "stdout"
        }
      ]
    },
    {
      "cell_type": "code",
      "metadata": {
        "id": "4LkD5405XoLn",
        "colab_type": "code",
        "outputId": "27f4637e-f24e-46d0-9aa4-a947ec61417f",
        "colab": {
          "base_uri": "https://localhost:8080/",
          "height": 136
        }
      },
      "source": [
        "  #only get the adj close value\n",
        "#  df = df[['Adj. Close']]\n",
        "df = df[['High']]\n",
        "  #print adj.close\n",
        "print(df.head())"
      ],
      "execution_count": 0,
      "outputs": [
        {
          "output_type": "stream",
          "text": [
            "             High\n",
            "Date             \n",
            "1997-05-16  23.75\n",
            "1997-05-19  21.25\n",
            "1997-05-20  21.00\n",
            "1997-05-21  19.75\n",
            "1997-05-22  17.38\n"
          ],
          "name": "stdout"
        }
      ]
    },
    {
      "cell_type": "code",
      "metadata": {
        "id": "yeskCcIVYODt",
        "colab_type": "code",
        "outputId": "45df1e86-3c26-43cb-9598-e6f51a0fdd78",
        "colab": {
          "base_uri": "https://localhost:8080/",
          "height": 136
        }
      },
      "source": [
        "#predicitve variable for 'n' days into the future\n",
        "forecasrt_out =30\n",
        "#another column for the target or depedent variable to be shifted n units up\n",
        "#df ['Prediction'] = df[['Adj. Close']].shift(-forecasrt_out)\n",
        "df ['Prediction'] = df[['High']].shift(-forecasrt_out)\n",
        "print(df.tail())"
      ],
      "execution_count": 0,
      "outputs": [
        {
          "output_type": "stream",
          "text": [
            "               High  Prediction\n",
            "Date                           \n",
            "2018-03-21  1590.00         NaN\n",
            "2018-03-22  1573.85         NaN\n",
            "2018-03-23  1549.02         NaN\n",
            "2018-03-26  1556.99         NaN\n",
            "2018-03-27  1575.96         NaN\n"
          ],
          "name": "stdout"
        }
      ]
    },
    {
      "cell_type": "code",
      "metadata": {
        "id": "uIdliLHEZh4O",
        "colab_type": "code",
        "outputId": "49293ca9-93fe-40b8-a5d2-b436248e4d28",
        "colab": {
          "base_uri": "https://localhost:8080/",
          "height": 136
        }
      },
      "source": [
        "X = np.array(df.drop(['Prediction'],1))\n",
        "#remove last 'n' rows\n",
        "X = X[:-forecasrt_out]\n",
        "print(X)"
      ],
      "execution_count": 0,
      "outputs": [
        {
          "output_type": "stream",
          "text": [
            "[[  23.75]\n",
            " [  21.25]\n",
            " [  21.  ]\n",
            " ...\n",
            " [1433.75]\n",
            " [1383.5 ]\n",
            " [1393.81]]\n"
          ],
          "name": "stdout"
        }
      ]
    },
    {
      "cell_type": "code",
      "metadata": {
        "id": "BCwfex-kbehn",
        "colab_type": "code",
        "outputId": "7dcdbabd-865f-4ac8-b076-689ae2c97b1d",
        "colab": {
          "base_uri": "https://localhost:8080/",
          "height": 34
        }
      },
      "source": [
        "### create the dependent data set (y)\n",
        "# conver dataframe to array(all values including NaN;s)\n",
        "y = np.array(df['Prediction'])\n",
        "#get all the y values except the last 'n' rows\n",
        "y = y[:-forecasrt_out]\n",
        "print(y)"
      ],
      "execution_count": 0,
      "outputs": [
        {
          "output_type": "stream",
          "text": [
            "[  19.19   18.5    19.13 ... 1549.02 1556.99 1575.96]\n"
          ],
          "name": "stdout"
        }
      ]
    },
    {
      "cell_type": "code",
      "metadata": {
        "id": "148oRZppc2np",
        "colab_type": "code",
        "colab": {}
      },
      "source": [
        "#spliting data to 80 training and 20 testing\n",
        "x_train,x_test,y_train,y_test = train_test_split(X, y, test_size = 0.2)"
      ],
      "execution_count": 0,
      "outputs": []
    },
    {
      "cell_type": "code",
      "metadata": {
        "id": "h7BR8kxadeMP",
        "colab_type": "code",
        "outputId": "828e88a0-72f7-494f-b40b-f60cb90ec4a3",
        "colab": {
          "base_uri": "https://localhost:8080/",
          "height": 51
        }
      },
      "source": [
        "#Creating and training suppourt vector training machine (Regressor)\n",
        "svr_rbf = SVR(kernel='rbf', C=1e3, gamma=0.1)\n",
        "svr_rbf.fit(x_train, y_train)"
      ],
      "execution_count": 0,
      "outputs": [
        {
          "output_type": "execute_result",
          "data": {
            "text/plain": [
              "SVR(C=1000.0, cache_size=200, coef0=0.0, degree=3, epsilon=0.1, gamma=0.1,\n",
              "    kernel='rbf', max_iter=-1, shrinking=True, tol=0.001, verbose=False)"
            ]
          },
          "metadata": {
            "tags": []
          },
          "execution_count": 34
        }
      ]
    },
    {
      "cell_type": "code",
      "metadata": {
        "id": "xuhvAPs8eGRw",
        "colab_type": "code",
        "outputId": "8f511f5f-2846-4686-e076-35682d2fd5b0",
        "colab": {
          "base_uri": "https://localhost:8080/",
          "height": 34
        }
      },
      "source": [
        "# Score returns the prediciton the coefficent and determination R^2 of the prediction.\n",
        "#best possible socre is 1.0\n",
        "svm_cinfidence = svr_rbf.score(x_test,y_test)\n",
        "print(\"svm cconfidence: \", svm_cinfidence)"
      ],
      "execution_count": 0,
      "outputs": [
        {
          "output_type": "stream",
          "text": [
            "svm cconfidence:  0.945663903965852\n"
          ],
          "name": "stdout"
        }
      ]
    },
    {
      "cell_type": "code",
      "metadata": {
        "id": "YpWrrBGTe8Jj",
        "colab_type": "code",
        "outputId": "4dc502aa-30ac-47a0-8cae-d32de651a503",
        "colab": {
          "base_uri": "https://localhost:8080/",
          "height": 34
        }
      },
      "source": [
        "#create and train the linear regression model\n",
        "lr = LinearRegression()\n",
        "#train the model\n",
        "lr.fit(x_train,y_train)"
      ],
      "execution_count": 0,
      "outputs": [
        {
          "output_type": "execute_result",
          "data": {
            "text/plain": [
              "LinearRegression(copy_X=True, fit_intercept=True, n_jobs=None, normalize=False)"
            ]
          },
          "metadata": {
            "tags": []
          },
          "execution_count": 36
        }
      ]
    },
    {
      "cell_type": "code",
      "metadata": {
        "id": "3e0LCvMcfglp",
        "colab_type": "code",
        "outputId": "f3d79f90-0199-4817-debb-0de991717495",
        "colab": {
          "base_uri": "https://localhost:8080/",
          "height": 34
        }
      },
      "source": [
        "lr_cinfidence = lr.score(x_test,y_test)\n",
        "print(\"lr cconfidence: \", svm_cinfidence)"
      ],
      "execution_count": 0,
      "outputs": [
        {
          "output_type": "stream",
          "text": [
            "lr cconfidence:  0.945663903965852\n"
          ],
          "name": "stdout"
        }
      ]
    },
    {
      "cell_type": "code",
      "metadata": {
        "id": "lWWV2RuqfsIo",
        "colab_type": "code",
        "outputId": "c28c3923-0615-4f18-b9e7-8a6d7e8cc37f",
        "colab": {
          "base_uri": "https://localhost:8080/",
          "height": 527
        }
      },
      "source": [
        "#set x_forecast equal to the last 30 rows of Adj. Close\n",
        "x_forecast  = np.array(df.drop(['Prediction'],1))[-forecasrt_out:]\n",
        "print(x_forecast)"
      ],
      "execution_count": 0,
      "outputs": [
        {
          "output_type": "stream",
          "text": [
            "[[1419.72]\n",
            " [1452.06]\n",
            " [1468.94]\n",
            " [1465.8 ]\n",
            " [1488.77]\n",
            " [1503.49]\n",
            " [1502.54]\n",
            " [1500.  ]\n",
            " [1522.84]\n",
            " [1526.78]\n",
            " [1528.7 ]\n",
            " [1518.49]\n",
            " [1501.05]\n",
            " [1525.38]\n",
            " [1542.13]\n",
            " [1545.9 ]\n",
            " [1554.88]\n",
            " [1578.94]\n",
            " [1605.33]\n",
            " [1617.54]\n",
            " [1606.44]\n",
            " [1596.91]\n",
            " [1589.44]\n",
            " [1561.66]\n",
            " [1587.  ]\n",
            " [1590.  ]\n",
            " [1573.85]\n",
            " [1549.02]\n",
            " [1556.99]\n",
            " [1575.96]]\n"
          ],
          "name": "stdout"
        }
      ]
    },
    {
      "cell_type": "code",
      "metadata": {
        "id": "ED7TJjmngkd4",
        "colab_type": "code",
        "outputId": "68c54e1a-a9b1-47fd-f3e1-9f060ce3e031",
        "colab": {
          "base_uri": "https://localhost:8080/",
          "height": 550
        }
      },
      "source": [
        "#prediciotion for the next 'n' days linear regretion\n",
        "lr_prediciton = lr.predict(x_forecast)\n",
        "print('lr predictions')\n",
        "print(lr_prediciton)\n",
        "#prediciotion for the next 'n' days suppourt vector\n",
        "svm_prediciton = svr_rbf.predict(x_forecast)\n",
        "print('svm predictions')\n",
        "print(svm_prediciton)\n",
        "print('lr plot,svm plot')\n",
        "plt.plot(lr_prediciton,label='lr prediction',linestyle='dashed', linewidth = 3, \n",
        "         marker='o', markerfacecolor='blue', markersize=5)\n",
        "plt.plot(svm_prediciton,label='svm predicton',linestyle='dashed', linewidth = 3, \n",
        "         marker='o', markerfacecolor='blue', markersize=5)\n",
        "plt.xlabel('Time')\n",
        "plt.ylabel('Stock Price')\n",
        "plt.title('Stock Price for '+stock+' for the next 30 days')\n",
        "plt.legend()\n",
        "#plot it\n",
        "plt.show()"
      ],
      "execution_count": 0,
      "outputs": [
        {
          "output_type": "stream",
          "text": [
            "lr predictions\n",
            "[1499.68039406 1533.92074583 1551.79264249 1548.46813091 1572.78788601\n",
            " 1588.37285751 1587.36703394 1584.67777935 1608.85989544 1613.03141634\n",
            " 1615.06423871 1604.25428226 1585.78947908 1611.54915003 1629.28340767\n",
            " 1633.2749391  1642.78261872 1668.25642402 1696.19714398 1709.12462373\n",
            " 1697.37236941 1687.28237088 1679.37342135 1649.96102271 1676.79004293\n",
            " 1679.96632788 1662.86732722 1636.57827545 1645.0166058  1665.10131431]\n",
            "svm predictions\n",
            "[ 673.6626012   679.76080863  920.01790418  740.16743144  673.83980868\n",
            "  717.25339288  786.69742292 1268.83786793  673.6626012   673.6626012\n",
            "  673.6626012   673.6626012  1023.89815119  673.6626012   673.6626012\n",
            "  673.6626012   673.6626012   673.6626012   673.6626012   673.6626012\n",
            "  673.6626012   673.6626012   673.6626012   673.6626012   673.6626012\n",
            "  673.6626012   673.6626012   673.6626012   673.6626012   673.6626012 ]\n",
            "lr plot,svm plot\n"
          ],
          "name": "stdout"
        },
        {
          "output_type": "display_data",
          "data": {
            "image/png": "[encoded data removed]",
            "text/plain": [
              "<Figure size 432x288 with 1 Axes>"
            ]
          },
          "metadata": {
            "tags": []
          }
        }
      ]
    },
    {
      "cell_type": "code",
      "metadata": {
        "id": "pES6a4k0hB28",
        "colab_type": "code",
        "colab": {}
      },
      "source": [
        "#END"
      ],
      "execution_count": 0,
      "outputs": []
    }
  ]
}